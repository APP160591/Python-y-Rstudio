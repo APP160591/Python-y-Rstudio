{
 "cells": [
  {
   "cell_type": "code",
   "execution_count": 2,
   "id": "207eff72-65ca-49b9-ad9d-a2b6ce0df503",
   "metadata": {},
   "outputs": [],
   "source": [
    "import numpy as np\n",
    "import matplotlib.pyplot as plt"
   ]
  },
  {
   "cell_type": "code",
   "execution_count": null,
   "id": "7eedcae0-c80e-40c1-82f2-c3b59bcea3c3",
   "metadata": {},
   "outputs": [],
   "source": [
    "masa = 47,5\n",
    "edad = 122\n",
    "masa = masa * 2\n",
    "edad = edad - 20"
   ]
  },
  {
   "cell_type": "code",
   "execution_count": 27,
   "id": "54d85d3d-5986-42bf-8d36-1c85ef2edc61",
   "metadata": {},
   "outputs": [
    {
     "name": "stdout",
     "output_type": "stream",
     "text": [
      "95.0 102 Alejandro_Pérez_Pérez\n"
     ]
    }
   ],
   "source": [
    "print(masa , edad, name)"
   ]
  },
  {
   "cell_type": "code",
   "execution_count": 26,
   "id": "ceaf10f0-94c9-46c0-9ac7-d0be4c87312a",
   "metadata": {},
   "outputs": [
    {
     "data": {
      "text/plain": [
       "str"
      ]
     },
     "execution_count": 26,
     "metadata": {},
     "output_type": "execute_result"
    }
   ],
   "source": [
    "type(name)"
   ]
  },
  {
   "cell_type": "code",
   "execution_count": 24,
   "id": "0950c78c-7dfb-479f-8f15-f3c4fe0248ab",
   "metadata": {},
   "outputs": [],
   "source": [
    "name = \"Alejandro_Pérez_Pérez\""
   ]
  },
  {
   "cell_type": "code",
   "execution_count": 29,
   "id": "0aae7236-0455-4168-b18c-c498f48a7b54",
   "metadata": {},
   "outputs": [],
   "source": [
    "a = np.random.normal(size=(15, 2, 1))"
   ]
  },
  {
   "cell_type": "code",
   "execution_count": 38,
   "id": "a3bccccd-4f5c-4f08-bb16-55cc41c808a3",
   "metadata": {},
   "outputs": [
    {
     "name": "stdout",
     "output_type": "stream",
     "text": [
      "a\n",
      "_Perez\n",
      "ndro_Perez_Perez\n"
     ]
    }
   ],
   "source": [
    "nombre = \"Alejandro_Perez_Perez\"\n",
    "print(nombre[4]) #imprime el valor que esta en la posicion indicada a partir de conteo cero\n",
    "print(nombre[-6:]) #imprime del ultimo caracter al numero indicado\n",
    "print(nombre[5:]) #imprime a partir de la letra numero 5"
   ]
  },
  {
   "cell_type": "code",
   "execution_count": 40,
   "id": "b5909583-2a5c-42b9-bb9f-ac37610d9fb3",
   "metadata": {},
   "outputs": [],
   "source": [
    "data = [\n",
    "    ['A', 'B', 'C'],\n",
    "    ['D', 'E', 'F'],\n",
    "    ['G', 'H', 'I']\n",
    "]"
   ]
  },
  {
   "cell_type": "code",
   "execution_count": 41,
   "id": "891beca3-c1b8-4004-87b3-10cbec4f61a6",
   "metadata": {},
   "outputs": [
    {
     "name": "stdout",
     "output_type": "stream",
     "text": [
      "[['A', 'B', 'C'], ['D', 'E', 'F'], ['G', 'H', 'I']]\n"
     ]
    }
   ],
   "source": [
    "#print( data )"
   ]
  },
  {
   "cell_type": "code",
   "execution_count": 43,
   "id": "41aa9e6d-7acf-444e-be5c-06da604fdb8c",
   "metadata": {},
   "outputs": [],
   "source": [
    "data=np.matrix(data)"
   ]
  },
  {
   "cell_type": "code",
   "execution_count": 47,
   "id": "01c9eda3-9252-4320-ba2a-b4fb400249fc",
   "metadata": {},
   "outputs": [
    {
     "name": "stdout",
     "output_type": "stream",
     "text": [
      "F\n"
     ]
    }
   ],
   "source": [
    "#data\n",
    "#print(data[:, :])#imprime toda la matriz\n",
    "#print(data[1, 2])#IMPRIME VALOR FILA 1 COLUMNA 2"
   ]
  },
  {
   "cell_type": "code",
   "execution_count": null,
   "id": "edee5755-4b31-435e-9e27-e3647577d0b9",
   "metadata": {},
   "outputs": [],
   "source": []
  },
  {
   "cell_type": "code",
   "execution_count": 48,
   "id": "f366fef5-b45d-44cd-8dd8-3aa6856817d9",
   "metadata": {},
   "outputs": [
    {
     "data": {
      "text/plain": [
       "(3, 3)"
      ]
     },
     "execution_count": 48,
     "metadata": {},
     "output_type": "execute_result"
    }
   ],
   "source": [
    "np.shape(data)"
   ]
  },
  {
   "cell_type": "code",
   "execution_count": 52,
   "id": "2728eef9-c8db-4c73-8751-f114a1fd685b",
   "metadata": {},
   "outputs": [],
   "source": [
    "data_n = [\n",
    "    [1, 2, 3],\n",
    "    [4, 5, 6],\n",
    "    [7, 8, 9]\n",
    "]\n",
    "data_n = np.matrix(data_n)"
   ]
  },
  {
   "cell_type": "code",
   "execution_count": 53,
   "id": "0822d52d-f364-427c-9afb-2a0a2586fe89",
   "metadata": {},
   "outputs": [
    {
     "name": "stdout",
     "output_type": "stream",
     "text": [
      "[[1 2 3]\n",
      " [4 5 6]\n",
      " [7 8 9]]\n"
     ]
    }
   ],
   "source": [
    "print(data_n[:, :])"
   ]
  },
  {
   "cell_type": "code",
   "execution_count": 62,
   "id": "d8f18730-b030-4714-9c17-90866d6db1f8",
   "metadata": {},
   "outputs": [
    {
     "data": {
      "text/plain": [
       "matrix([[7, 8, 9]])"
      ]
     },
     "execution_count": 62,
     "metadata": {},
     "output_type": "execute_result"
    }
   ],
   "source": [
    "np.max(data_n, axis =0)\n",
    "#np.min(data_n, axis = 0)\n",
    "#np.median(data_n, axis = 0)"
   ]
  },
  {
   "cell_type": "code",
   "execution_count": 63,
   "id": "673365b6-7613-4ce5-b576-c23adfe718ed",
   "metadata": {},
   "outputs": [
    {
     "name": "stdout",
     "output_type": "stream",
     "text": [
      "1\n"
     ]
    }
   ],
   "source": [
    "print(np.min(data_n)) #imprime el valor minimo de la matriz"
   ]
  },
  {
   "cell_type": "code",
   "execution_count": 66,
   "id": "33538ba5-6ad9-4613-8423-82ddc37c07ca",
   "metadata": {},
   "outputs": [
    {
     "name": "stdout",
     "output_type": "stream",
     "text": [
      "9\n"
     ]
    }
   ],
   "source": [
    "num = np.max(data_n) #imprime el valor maximo o minimo\n",
    "print(str(num))"
   ]
  },
  {
   "cell_type": "code",
   "execution_count": 67,
   "id": "f0768573-53f4-4beb-91a3-54687187ef24",
   "metadata": {},
   "outputs": [
    {
     "name": "stdout",
     "output_type": "stream",
     "text": [
      "9 es mayor a 5\n",
      "hecho\n"
     ]
    }
   ],
   "source": [
    "num = np.max(data_n) #compara el valor de la matriz ya sea maximo o nimimo\n",
    "if num >= 5:\n",
    "    print(str(num), 'es mayor a 5')\n",
    "else:\n",
    "    print(str(num), 'es nemor a 5')\n",
    "print('hecho')\n",
    "    "
   ]
  },
  {
   "cell_type": "code",
   "execution_count": null,
   "id": "1750bc03-78b6-4599-aea5-8cdd08f3fcc4",
   "metadata": {},
   "outputs": [],
   "source": []
  },
  {
   "cell_type": "code",
   "execution_count": 76,
   "id": "fc8035bf-9a65-4e02-8e40-d5cf61910457",
   "metadata": {},
   "outputs": [
    {
     "data": {
      "image/png": "[encoded data removed]",
      "text/plain": [
       "<Figure size 640x480 with 1 Axes>"
      ]
     },
     "metadata": {},
     "output_type": "display_data"
    }
   ],
   "source": [
    "#graficos\n",
    "fig, ax = plt.subplots()\n",
    "ax = plt.plot(a[0, :],color='tomato',linewidth='1.5')\n",
    "plt.xlabel('eje x')\n",
    "plt.ylabel('eje y')\n",
    "plt.title('Figura de Prueba')\n",
    "plt.show()"
   ]
  },
  {
   "cell_type": "code",
   "execution_count": null,
   "id": "445f9b03-fb18-4e4b-ae6e-c8c5ec6c09d9",
   "metadata": {},
   "outputs": [],
   "source": []
  },
  {
   "cell_type": "code",
   "execution_count": null,
   "id": "83f61a5d-8133-426e-a5c7-70edfc3e0a8c",
   "metadata": {},
   "outputs": [],
   "source": []
  }
 ],
 "metadata": {
  "kernelspec": {
   "display_name": "Python [conda env:jupyterlab] *",
   "language": "python",
   "name": "conda-env-jupyterlab-py"
  },
  "language_info": {
   "codemirror_mode": {
    "name": "ipython",
    "version": 3
   },
   "file_extension": ".py",
   "mimetype": "text/x-python",
   "name": "python",
   "nbconvert_exporter": "python",
   "pygments_lexer": "ipython3",
   "version": "3.12.10"
  }
 },
 "nbformat": 4,
 "nbformat_minor": 5
}
